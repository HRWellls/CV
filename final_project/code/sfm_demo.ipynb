{
 "cells": [
  {
   "cell_type": "code",
   "execution_count": null,
   "metadata": {},
   "outputs": [],
   "source": [
    "%load_ext autoreload\n",
    "%autoreload 2\n",
    "import tqdm, tqdm.notebook\n",
    "\n",
    "tqdm.tqdm = tqdm.notebook.tqdm  # notebook-friendly progress bars\n",
    "from pathlib import Path\n",
    "import numpy as np\n",
    "\n",
    "from hloc import (\n",
    "    extract_features,\n",
    "    match_features,\n",
    "    reconstruction,\n",
    "    visualization,\n",
    "    pairs_from_exhaustive,\n",
    ")\n",
    "from hloc.visualization import plot_images, read_image\n",
    "from hloc.utils import viz_3d\n",
    "import torch"
   ]
  },
  {
   "cell_type": "code",
   "execution_count": null,
   "metadata": {},
   "outputs": [],
   "source": [
    "torch.cuda.set_device(3)\n",
    "print(\"torch.cuda.current_device()=\", torch.cuda.get_device_name())\n",
    "\n",
    "images = Path(\"/home/cv_stu_03/Hierarchical-Localization/project/images/YueyaBuilding/ReconstructionDataset\")\n",
    "sfm_dir= Path(\"/home/cv_stu_03/Hierarchical-Localization/project/output/YueyaBuilding/sfm\")\n",
    "sfm_pairs= Path(\"/home/cv_stu_03/Hierarchical-Localization/project/output/YueyaBuilding/pairs-sfm.txt\")\n",
    "loc_pairs = Path(\"/home/cv_stu_03/Hierarchical-Localization/project/output/YueyaBuilding/pairs-loc.txt\")\n",
    "features= Path(\"/home/cv_stu_03/Hierarchical-Localization/project/output/YueyaBuilding/features.h5\")\n",
    "matches= Path(\"/home/cv_stu_03/Hierarchical-Localization/project/output/YueyaBuilding/matches.h5\")\n",
    "\n",
    "# otuputs = Path(\"/home/cv_stu_03/Hierarchical-Localization/project/output/Library\")\n",
    "# references = [p.relative_to(images).as_posix() for p in (images ).iterdir()]"
   ]
  },
  {
   "cell_type": "code",
   "execution_count": null,
   "metadata": {},
   "outputs": [],
   "source": [
    "# images = Path(\"images/MainLibrary\")\n",
    "# outputs = Path(\"outputs/MengminweiBuilding\")\n",
    "# # !rm -rf $outputs\n",
    "# sfm_pairs = outputs / \"pairs-sfm.txt\"\n",
    "# loc_pairs = outputs / \"pairs-loc.txt\"\n",
    "# sfm_dir = outputs / \"sfm\"\n",
    "# features = outputs / \"features.h5\"\n",
    "# matches = outputs / \"matches.h5\"\n",
    "\n",
    "feature_conf = extract_features.confs[\"disk\"]\n",
    "matcher_conf = match_features.confs[\"NN-superpoint\"]"
   ]
  },
  {
   "cell_type": "code",
   "execution_count": null,
   "metadata": {},
   "outputs": [],
   "source": [
    "references = [p.relative_to(images).as_posix() for p in (images ).iterdir()]\n",
    "print(len(references), \"mapping images\")\n",
    "plot_images([read_image(images / r) for r in references], dpi=25)"
   ]
  },
  {
   "cell_type": "code",
   "execution_count": null,
   "metadata": {},
   "outputs": [],
   "source": [
    "# import torch\n",
    "\n",
    "# torch.cuda.set_device(2)\n",
    "\n",
    "extract_features.main(\n",
    "    feature_conf, images, image_list=references, feature_path=features\n",
    ")\n",
    "pairs_from_exhaustive.main(sfm_pairs, image_list=references)\n",
    "match_features.main(matcher_conf, sfm_pairs, features=features, matches=matches)"
   ]
  },
  {
   "cell_type": "code",
   "execution_count": null,
   "metadata": {},
   "outputs": [],
   "source": [
    "model = reconstruction.main(\n",
    "    sfm_dir, images, sfm_pairs, features, matches, image_list=references\n",
    ")\n",
    "fig = viz_3d.init_figure()\n",
    "viz_3d.plot_reconstruction(\n",
    "    fig, model, color=\"rgba(255,0,0,0.5)\", name=\"mapping\", points_rgb=True\n",
    ")\n",
    "fig.show()"
   ]
  }
 ],
 "metadata": {
  "kernelspec": {
   "display_name": "cv_lab",
   "language": "python",
   "name": "python3"
  },
  "language_info": {
   "codemirror_mode": {
    "name": "ipython",
    "version": 3
   },
   "file_extension": ".py",
   "mimetype": "text/x-python",
   "name": "python",
   "nbconvert_exporter": "python",
   "pygments_lexer": "ipython3",
   "version": "3.8.20"
  }
 },
 "nbformat": 4,
 "nbformat_minor": 2
}
