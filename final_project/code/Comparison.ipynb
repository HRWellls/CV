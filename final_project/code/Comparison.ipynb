{
 "cells": [
  {
   "cell_type": "markdown",
   "metadata": {},
   "source": [
    "# Comparison"
   ]
  },
  {
   "cell_type": "markdown",
   "metadata": {},
   "source": [
    "- 在本 demo 之中，我们将完成不同 extractor 和 matcher 的匹配与效果的比对，主要是对于重建的影响，进而影响定位的效果。"
   ]
  },
  {
   "cell_type": "markdown",
   "metadata": {},
   "source": [
    "- 在本次实验中，一共有多种 extractor 和 matcher，我们选择其中的几种进行比较探索"
   ]
  },
  {
   "cell_type": "code",
   "execution_count": null,
   "metadata": {},
   "outputs": [],
   "source": [
    "%load_ext autoreload\n",
    "%autoreload 2\n",
    "import tqdm, tqdm.notebook\n",
    "\n",
    "tqdm.tqdm = tqdm.notebook.tqdm  # notebook-friendly progress bars\n",
    "from pathlib import Path\n",
    "import numpy as np\n",
    "\n",
    "from hloc import (\n",
    "    extract_features,\n",
    "    match_features,\n",
    "    reconstruction,\n",
    "    visualization,\n",
    "    pairs_from_exhaustive,\n",
    ")\n",
    "from hloc.visualization import plot_images, read_image\n",
    "from hloc.utils import viz_3d"
   ]
  },
  {
   "cell_type": "markdown",
   "metadata": {},
   "source": [
    "### Set Paths"
   ]
  },
  {
   "cell_type": "code",
   "execution_count": null,
   "metadata": {},
   "outputs": [],
   "source": [
    "images = Path(\"project/images/MainLibrary/ReconstructionDataset\")\n",
    "\n",
    "extracter = \"r2d2\"\n",
    "matcher = \"NN-superpoint\"\n",
    "\n",
    "name = extracter + \"_\" + matcher\n",
    "\n",
    "output = Path(\"project/Comparison/\" + name)\n",
    "\n",
    "print(output)\n",
    "\n",
    "sfm_pairs = output / \"pairs-sfm.txt\"\n",
    "loc_pairs = output / \"pairs-loc.txt\"\n",
    "sfm_dir = output / \"sfm\"\n",
    "features = output / \"features.h5\"\n",
    "matches = output / \"matches.h5\"\n",
    "\n",
    "feature_conf = extract_features.confs[extracter]\n",
    "matcher_conf = match_features.confs[matcher]"
   ]
  },
  {
   "cell_type": "code",
   "execution_count": null,
   "metadata": {},
   "outputs": [],
   "source": [
    "references = [p.relative_to(images).as_posix() for p in (images ).iterdir()]"
   ]
  },
  {
   "cell_type": "markdown",
   "metadata": {},
   "source": [
    "### Extract features & match"
   ]
  },
  {
   "cell_type": "code",
   "execution_count": null,
   "metadata": {},
   "outputs": [],
   "source": [
    "import torch\n",
    "\n",
    "torch.cuda.set_device(3)\n",
    "\n",
    "extract_features.main(\n",
    "    feature_conf, images, image_list=references, feature_path=features\n",
    ")\n",
    "pairs_from_exhaustive.main(sfm_pairs, image_list=references)\n",
    "match_features.main(matcher_conf, sfm_pairs, features=features, matches=matches)"
   ]
  },
  {
   "cell_type": "code",
   "execution_count": null,
   "metadata": {},
   "outputs": [],
   "source": [
    "# extract_features.main(\n",
    "#     feature_conf2, images, image_list=references, feature_path=features_2\n",
    "# )\n",
    "# pairs_from_exhaustive.main(sfm_pairs_2, image_list=references)\n",
    "# match_features.main(matcher_conf2, sfm_pairs_2, features=features_2, matches=matches_2)"
   ]
  },
  {
   "cell_type": "markdown",
   "metadata": {},
   "source": [
    "### Reconstruction"
   ]
  },
  {
   "cell_type": "code",
   "execution_count": null,
   "metadata": {},
   "outputs": [],
   "source": [
    "name_1 = \"r2d2_NN-superpoint\"\n",
    "path_1 = Path(\"project/Comparison/\" + name_1)\n",
    "sfm_pairs_1 = path_1 / \"pairs-sfm.txt\"\n",
    "sfm_dir_1 = path_1 / \"sfm\"\n",
    "features_1 = path_1 / \"features.h5\"\n",
    "matches_1 = path_1 / \"matches.h5\"\n",
    "\n",
    "\n",
    "model_1 = reconstruction.main(\n",
    "    sfm_dir_1, images, sfm_pairs_1, features_1, matches_1, image_list=references\n",
    ")\n",
    "\n",
    "fig_1 = viz_3d.init_figure()\n",
    "viz_3d.plot_reconstruction(\n",
    "    fig_1, model_1, color=\"rgba(255,0,0,0.5)\", name=\"mapping\", points_rgb=True\n",
    ")\n"
   ]
  },
  {
   "cell_type": "code",
   "execution_count": null,
   "metadata": {},
   "outputs": [],
   "source": [
    "torch.cuda.set_device(3)\n",
    "\n",
    "name_2 = \"\"\n",
    "path_2 = Path(\"project/Comparison/\" + name_1)\n",
    "sfm_pairs_2 = path_2 / \"pairs-sfm.txt\"\n",
    "sfm_dir_2 = path_2 / \"sfm\"\n",
    "features_2 = path_2 / \"features.h5\"\n",
    "matches_2 = path_2 / \"matches.h5\"\n",
    "\n",
    "model2 = reconstruction.main(\n",
    "    sfm_dir_2, images, sfm_pairs_2, features_2, matches_2, image_list=references\n",
    ")\n",
    "\n",
    "fig_2 = viz_3d.init_figure()\n",
    "viz_3d.plot_reconstruction(\n",
    "    fig_2, model2, color=\"rgba(255,0,0,0.5)\", name=\"mapping\", points_rgb=True\n",
    ")"
   ]
  },
  {
   "cell_type": "markdown",
   "metadata": {},
   "source": [
    "### Do comparison"
   ]
  },
  {
   "cell_type": "code",
   "execution_count": null,
   "metadata": {},
   "outputs": [],
   "source": [
    "fig_1.show()\n",
    "fig_2.show()"
   ]
  },
  {
   "cell_type": "code",
   "execution_count": null,
   "metadata": {},
   "outputs": [],
   "source": [
    "fig_1.show()"
   ]
  }
 ],
 "metadata": {
  "kernelspec": {
   "display_name": "cv_lab",
   "language": "python",
   "name": "python3"
  },
  "language_info": {
   "codemirror_mode": {
    "name": "ipython",
    "version": 3
   },
   "file_extension": ".py",
   "mimetype": "text/x-python",
   "name": "python",
   "nbconvert_exporter": "python",
   "pygments_lexer": "ipython3",
   "version": "3.8.20"
  }
 },
 "nbformat": 4,
 "nbformat_minor": 2
}
